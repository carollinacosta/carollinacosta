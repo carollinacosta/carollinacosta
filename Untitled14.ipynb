{
  "nbformat": 4,
  "nbformat_minor": 0,
  "metadata": {
    "colab": {
      "provenance": [],
      "authorship_tag": "ABX9TyMNUbWAxRN+H6Q65yLOb2kt",
      "include_colab_link": true
    },
    "kernelspec": {
      "name": "python3",
      "display_name": "Python 3"
    },
    "language_info": {
      "name": "python"
    }
  },
  "cells": [
    {
      "cell_type": "markdown",
      "metadata": {
        "id": "view-in-github",
        "colab_type": "text"
      },
      "source": [
        "<a href=\"https://colab.research.google.com/github/carollinacosta/carollinacosta/blob/main/Untitled14.ipynb\" target=\"_parent\"><img src=\"https://colab.research.google.com/assets/colab-badge.svg\" alt=\"Open In Colab\"/></a>"
      ]
    },
    {
      "cell_type": "code",
      "execution_count": 1,
      "metadata": {
        "colab": {
          "base_uri": "https://localhost:8080/"
        },
        "id": "oLiXqX_x2V7k",
        "outputId": "b5a65590-ba7e-43ac-d214-54e113e94cf3"
      },
      "outputs": [
        {
          "output_type": "stream",
          "name": "stdout",
          "text": [
            "Digite o primeiro número: 2\n",
            "Digite o segundo número: 2\n",
            "Escolha a operação (1. Soma, 2. Subtração, 3. Multiplicação, 4. Divisão): 1\n",
            "Resultado: 4.0\n"
          ]
        }
      ],
      "source": [
        "def calculadora(num1, num2, operacao):\n",
        "    if operacao == 1:\n",
        "        resultado = num1 + num2\n",
        "    elif operacao == 2:\n",
        "        resultado = num1 - num2\n",
        "    elif operacao == 3:\n",
        "        resultado = num1 * num2\n",
        "    elif operacao == 4:\n",
        "        if num2 != 0:  # Verifica se o divisor não é zero para evitar divisão por zero\n",
        "            resultado = num1 / num2\n",
        "        else:\n",
        "            print(\"Erro: Divisão por zero.\")\n",
        "            return 0\n",
        "    else:\n",
        "        print(\"Operação inválida. Escolha uma operação de 1 a 4.\")\n",
        "        return 0\n",
        "\n",
        "    return resultado\n",
        "\n",
        "# Exemplo de uso:\n",
        "num1 = float(input(\"Digite o primeiro número: \"))\n",
        "num2 = float(input(\"Digite o segundo número: \"))\n",
        "operacao = int(input(\"Escolha a operação (1. Soma, 2. Subtração, 3. Multiplicação, 4. Divisão): \"))\n",
        "\n",
        "resultado = calculadora(num1, num2, operacao)\n",
        "print(\"Resultado:\", resultado)\n"
      ]
    }
  ]
}