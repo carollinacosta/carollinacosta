{
  "nbformat": 4,
  "nbformat_minor": 0,
  "metadata": {
    "colab": {
      "provenance": [],
      "authorship_tag": "ABX9TyOg9T5ztrW1Hr8DwwJa1SO1",
      "include_colab_link": true
    },
    "kernelspec": {
      "name": "python3",
      "display_name": "Python 3"
    },
    "language_info": {
      "name": "python"
    }
  },
  "cells": [
    {
      "cell_type": "markdown",
      "metadata": {
        "id": "view-in-github",
        "colab_type": "text"
      },
      "source": [
        "<a href=\"https://colab.research.google.com/github/carollinacosta/carollinacosta/blob/main/Untitled19.ipynb\" target=\"_parent\"><img src=\"https://colab.research.google.com/assets/colab-badge.svg\" alt=\"Open In Colab\"/></a>"
      ]
    },
    {
      "cell_type": "code",
      "execution_count": 4,
      "metadata": {
        "id": "XuGIeOY5dZ5l"
      },
      "outputs": [],
      "source": [
        "def calculadora(num1, num2, operacao):\n",
        "  if (operacao == 1):\n",
        "    return num1 + num2\n",
        "  elif (operacao == 2):\n",
        "    return num1 - num2\n",
        "  elif (operacao == 3):\n",
        "    return num1 * num2\n",
        "  elif (operacao == 4):\n",
        "    return num1 / num2\n",
        "  else:\n",
        "    return 0\n",
        "\n",
        "  executar = True\n",
        "\n",
        "  while (executar == True):\n",
        "    print('Selecione a operação desejada')\n",
        "    print('1: Soma, 2: Subtração, 3: Multiplicação, 4: Divisão, 0: Sair')\n",
        "    operacao = int(input())\n",
        "\n",
        "    if (operacao < 0) or (operacao > 4):\n",
        "      print('Opção inválida')\n",
        "    elif (operacao == 0):\n",
        "      executar = False\n",
        "    else:\n",
        "      print('Digite o primeiro número: ')\n",
        "      num1 = int(input())\n",
        "      print('Digite o segundo número: ')\n",
        "      num2 = int(input())\n",
        "      resultado = calculadora(num1, num2, operacao)\n",
        "      print('O resultado é: ', resultado)"
      ]
    }
  ]
}